{
 "cells": [
  {
   "cell_type": "markdown",
   "id": "71d5f0f0",
   "metadata": {},
   "source": [
    "## Hierarchical Clustering Notes:\n",
    "\n",
    "simply put relies on measuring whihc data points are most 'similar' to other data points.\n",
    "'Similarity' defined by choosing a distance metric \n",
    "\n",
    "Why use?\n",
    "1. easy to understand and visualise \n",
    "2. helps users decide on how many clusters to choose\n",
    "3. dont necessarily need to choose cluster amount before running algo.\n",
    "\n",
    "how works?\n",
    "1. divides points into potential clusters.\n",
    "    - Agglomerative approach:\n",
    "        - Each point begins as its own cluster and then clusters are joined.\n",
    "    - Divisive approach:\n",
    "        - All points befin in same cluster and then cluster is split into more clusters. \n",
    "        \n",
    "2. Similarity metric:\n",
    "    default is Euclidean \n",
    "    \n",
    "3. Dendogram\n",
    "    - plot displaying all potential clusters\n",
    "    - computationally expensive for larger data sets.\n",
    "    - very useful for deciding on number of clusters \n",
    "    \n",
    "4. linkage:\n",
    "    - measuring distance between point and cluster or cluster and cluster.\n",
    "    - it is the criteria which determines which distance to use between sets of observation.\n",
    "    - observation will merge pairs of clusters that minimizes the criteria.\n",
    "    "
   ]
  },
  {
   "cell_type": "code",
   "execution_count": null,
   "id": "e417feb2",
   "metadata": {},
   "outputs": [],
   "source": []
  }
 ],
 "metadata": {
  "kernelspec": {
   "display_name": "Python 3 (ipykernel)",
   "language": "python",
   "name": "python3"
  },
  "language_info": {
   "codemirror_mode": {
    "name": "ipython",
    "version": 3
   },
   "file_extension": ".py",
   "mimetype": "text/x-python",
   "name": "python",
   "nbconvert_exporter": "python",
   "pygments_lexer": "ipython3",
   "version": "3.9.13"
  }
 },
 "nbformat": 4,
 "nbformat_minor": 5
}
